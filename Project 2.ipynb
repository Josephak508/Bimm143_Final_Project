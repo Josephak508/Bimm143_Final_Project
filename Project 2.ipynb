{
 "cells": [
  {
   "cell_type": "markdown",
   "metadata": {},
   "source": [
    "### Scientific Question: How are sleep disturbances, including nightmares, sleepwalking and sleep-stalking, and nuresis nocturna, related to a child's gender?\n",
    "\n",
    "#### Sleep Health \n",
    "Sleep, similarly to nutrition and physical activity are critical in people's health and well-being. It is a basic requirement for the  health and development of infants, children, and adolescents. Sleep time and duration, which can be disrupted by sleep disturbances, affect multiple endocrine, metabolic, and neurological functions. Adequate sleep is also necessary to fight off infections, support the metabolism of sugar, maintain high levels of concentration, and work effectively and safely.\n",
    "\n",
    "#### Sleep Disturbances \n",
    "A variety of difference behaviors constitute as sleep disturbances, including inomnia, hyperinsomnia, nighmares, sleepwalking, sleep-talking and enuresis nocturna. Multiple factors such as family constellation and family problems, adverse living conditions, chronic illness and gender have been hypothesized to influence sleep health. Sleep disturbances are highly prevelant in young children. It is therefor important to identify sleep problems early to prevent negative consequences such as daytime sleepiness, irritability, bahvioral problems, learning difficulties, motor vehicle crashes in teenagers and poor academic performance. \n",
    "\n",
    "#### Data Used \n",
    "The data used for this project was retrieved from the research paper \"Häufigkeit und Belastungsfaktoren bei Schlafstörungen im Einschulalter\" by Susanne Kraenz et al., which was published in 2004. \n",
    "\n",
    "### Scientific Hypothesis: If the frequency of sleep disturbances is related to a child's gender, there will be low probability (p-value) that the results seen are at least as extreme as those of the other gender assuming there is no correlation. \n",
    "\n",
    "#### Analysis \n",
    "After downloading the data on frequency of sleep disturbances of chidren of different gender, I performed a T-test to determine the significance of the correlation between sleep disturbances and gender. I focused on nightmares, sleepwalking and sleep-talking, and enuresis nocturna for my analysis. My null hypothesis was that there is no significant difference in the number of boys and the number of girls that reported experiencing sleeep disturbances at the age of six. If the p-value is less that 0.01, the null hypothesis can be rejected, indicating that there is strong evidence for correlation between nightmares and gender. In a histogram plot, I showed the two categories on the x-axis: boys and girls, further grouped into those that reported no sleep disturbances, those that reported some disturbances and those that reported frequent disturbances. Those children reporting rare disturbanes experienced them no more than once a month. Those that reported frequent disturbances experienced them at least once a week. The y-axis shows the number of children for each group. This plot helps visualize the differences in gender as grouped by frequency of sleep disturbances. If the null hypothesis can be rejected, the histogram should show a difference between the number of girls and boys in each category of reported frequences of sleep disturbances. \n",
    "\n",
    "#### Data Retrieved\n",
    "\n",
    "To answer the scientific question and test my hypothesis, I first had to summarize the data in csv files. The Kraenz et al. includes the results of a survey conducted in Cologne's elementary schools in table 1. The survey questioned 1644 boys and 1620 girls at the age of 6. The table in the paper lists the percentages of boys and girls respectively that experienced rare of frequent sleep disturbanes. Based on these percentages, I calculated the number boys and girls in each category and made six Excel spreadsheets with the number of children experiencing no disturbances listed as 1, rare disturbances listed as 2 and frequenct disturbances listed as 3. Next, I converted these tables into csv files and uploaded them using the pandas package. \n",
    "\n",
    "### Part 1: Loading Packages\n",
    "\n",
    "- Pandas: It is mosty used for data science manipulation tool and analysis. Using this tool, one can easily manipulate any type of data, such as structured or time-series. It includes many Series and DataFrames, which allows for the simple organization, exploration, representation, and manipulation of data. For organizing and labeling data, the package includes smart alignment and indexing features, as well as ones that allow the handling of missing data or a value with a proper measure. Overall, pandas offers a clean code that is easy to  use and many built-in tools that allows the reading and writing of data in different web services, data-structures, and databases.\n",
    "- Scipy.stats: Scipy has features for scientific and technical computation and is very suitable for machine learning. The package has different modules: for optimization, integration, linear algebra, and statistics. The stats module contains probability distributions and statistical functions. Some of the funtions that can be performed are: continuous distributions, multivariant distributions, decrete distributions, summary statistics, frequency statistics, correlations functions, statistical tests, transformations, statistical distances, random variate generation, circular statistical functions, contingency table functions, plot-tests, masked statistics functions, and univariate and multivariate kernel density estimation.\n",
    "- Matplotlib: It is used to create static, animated and interactive visualizations. Specifically, the package is used to write two-dimensional graphs and plots. If more then a single axes is required for representation of the data, matplotlib helps in building multiple plots at a time. It can also be used to manipulate different  characters of figures. The package is helpful in creating high quality figures for publication, especially using the integration of third-party libraries such as seaborn and ggplot. \n",
    "- Numpy: This provides the datastructure n-dimensional arrays as well as functions for linear algebra, fourier transform and matrices. Additionally, numpy provides a variety of tools to manage arrays and matrices. It provides masked arrays along with general array objects and comes with functionalities including manipulation of logical  shapes, discrete Fourier transform, and general linear algebra. The package also uncludes features for integration."
   ]
  },
  {
   "cell_type": "code",
   "execution_count": 2,
   "metadata": {},
   "outputs": [],
   "source": [
    "# import necessary packages\n",
    "import pandas as pd\n",
    "import scipy.stats as stats\n",
    "import matplotlib.pyplot as plt\n",
    "import numpy as np"
   ]
  },
  {
   "cell_type": "markdown",
   "metadata": {},
   "source": [
    "### Part 2: Loading Data and Performing Bioinformatics Ananlysis using T-test\n",
    "\n",
    "#### Data Loaded\n",
    "\n",
    "I created the csv (which stands for comma-separated values) files based on the numerical data from the Kraenz et al. paper. The six files imported contain information on gender and sleep disturbances. There are three csv files for each gender, with one file listing nightmare frequency, one for sleepwalking and sleep-talking, and one file on enuresis noctura. These files were imported using the pandas package.\n",
    "\n",
    "#### Bioinformatics Analysis: T-test\n",
    "\n",
    "The bioinformatics analyses performed were T-tests. Using the scipy.stats package, a test was performed for each of the three sleep disturbances. The parameters representing boys and girls were chosen as \"a\" and \"b\". To determine whether the population variances are equal, I performed a F-test, where a p-value greater than 0.01 would cause me to fail to reject the null hypothesis. This means that there is sufficient evidence that the population variances are equal. Therefore, the \"equal_var = True\" is indicative of the standard independent two sample test performed, which assumes equal population variance. The results of the T-tests give the test statistic and p-value from which a conclusion can be drawn."
   ]
  },
  {
   "cell_type": "code",
   "execution_count": 3,
   "metadata": {},
   "outputs": [
    {
     "name": "stdout",
     "output_type": "stream",
     "text": [
      "(1    0.969846\n",
      "dtype: float64, array([0.73164516]))\n",
      "Ttest_indResult(statistic=array([0.10521202]), pvalue=array([0.91621404]))\n",
      "(1    0.952598\n",
      "dtype: float64, array([0.83643151]))\n",
      "Ttest_indResult(statistic=array([-0.55293433]), pvalue=array([0.58034629]))\n",
      "(1    0.653685\n",
      "dtype: float64, array([1.]))\n",
      "Ttest_indResult(statistic=array([-3.02074136]), pvalue=array([0.00254188]))\n"
     ]
    }
   ],
   "source": [
    "# Nightmares\n",
    "# import data\n",
    "a = pd.read_csv('girls_data.csv')\n",
    "a.head()\n",
    "b = pd.read_csv('boys_data.csv')\n",
    "b.head()\n",
    "\n",
    "# perform F-test\n",
    "def f_test(a, b):\n",
    "    f = np.var(a, ddof=1)/np.var(b, ddof=1) # calculate F-test statistic \n",
    "    dfn = a.size-1 # define degrees of freedom numerator \n",
    "    dfd = b.size-1 # define degrees of freedom denominator \n",
    "    p = 1-stats.f.cdf(f, dfn, dfd) # find p-value of F-test statistic \n",
    "    return f, p\n",
    "print(f_test(a, b))\n",
    "\n",
    "# perform T-test\n",
    "print(stats.ttest_ind(a, b, equal_var = False))\n",
    "\n",
    "# Sleepwalking and sleep-speaking\n",
    "# import data\n",
    "a = pd.read_csv('girls_sleepwalking.csv')\n",
    "a.head()\n",
    "b = pd.read_csv('boys_sleepwalking.csv')\n",
    "b.head()\n",
    "\n",
    "# perform F-test\n",
    "def f_test(a, b):\n",
    "    f = np.var(a, ddof=1)/np.var(b, ddof=1) # calculate F-test statistic \n",
    "    dfn = a.size-1 # define degrees of freedom numerator \n",
    "    dfd = b.size-1 # define degrees of freedom denominator \n",
    "    p = 1-stats.f.cdf(f, dfn, dfd) # find p-value of F-test statistic \n",
    "    return f, p\n",
    "print(f_test(a, b))\n",
    "\n",
    "#perform T-test\n",
    "print(stats.ttest_ind(a, b, equal_var = False))\n",
    "\n",
    "# Enuresis nocturna\n",
    "# import data\n",
    "a = pd.read_csv('girls_enuresis.csv')\n",
    "a.head()\n",
    "b = pd.read_csv('boys_enuresis.csv')\n",
    "b.head()\n",
    "\n",
    "# perform F-test\n",
    "def f_test(a, b):\n",
    "    f = np.var(a, ddof=1)/np.var(b, ddof=1) # calculate F-test statistic \n",
    "    dfn = a.size-1 # define degrees of freedom numerator \n",
    "    dfd = b.size-1 # define degrees of freedom denominator \n",
    "    p = 1-stats.f.cdf(f, dfn, dfd) # find p-value of F-test statistic \n",
    "    return f, p\n",
    "print(f_test(a, b))\n",
    "\n",
    "# perform T-test\n",
    "print(stats.ttest_ind(a, b, equal_var = False))"
   ]
  },
  {
   "cell_type": "markdown",
   "metadata": {},
   "source": [
    "### Part 3: Histograms Visualizing the Frequency Sleep Disturbances Grouped to Gender\n",
    "\n",
    "#### Data Analysis Method: Histograms \n",
    "\n",
    "Here, I created three histograms to visualize the differences in nightmare, sleepwalking and sleep-talking, and enuresis nocturna frequencies between six-year-old girls and boys. I imported the csv files for each sleep disturbance using pandas. Next, I created colored bars for girls and boys in each category of frequency and added a legend. Further formatting included defining the style of graph used, the bin spacing, labeling of the x- and y-axis, spacing of x-axis ticks and labeling of these values. Additionally, the scale on the y-axis was modified by taking the logarithm of the number of children to make the differences in gender easier to visualize."
   ]
  },
  {
   "cell_type": "code",
   "execution_count": 4,
   "metadata": {},
   "outputs": [
    {
     "data": {
      "image/png": "[encoded data removed]",
      "text/plain": [
       "<Figure size 432x288 with 1 Axes>"
      ]
     },
     "metadata": {
      "needs_background": "light"
     },
     "output_type": "display_data"
    },
    {
     "data": {
      "image/png": "[encoded data removed]",
      "text/plain": [
       "<Figure size 432x288 with 1 Axes>"
      ]
     },
     "metadata": {
      "needs_background": "light"
     },
     "output_type": "display_data"
    },
    {
     "data": {
      "image/png": "[encoded data removed]",
      "text/plain": [
       "<Figure size 432x288 with 1 Axes>"
      ]
     },
     "metadata": {
      "needs_background": "light"
     },
     "output_type": "display_data"
    }
   ],
   "source": [
    "# Nightmares\n",
    "# import data for graph\n",
    "d = pd.read_csv('nightmare_data.csv')\n",
    "girls = d['girls']\n",
    "boys = d['boys']\n",
    "legend = ['Girls', 'Boys']\n",
    "\n",
    "# plot and format histogram\n",
    "plt.style.use('seaborn-deep')\n",
    "bins = np.linspace(0, 4, 4)\n",
    "plt.hist([girls, boys], bins=np.arange(10)-0.5, color = ['orange', 'purple'])\n",
    "\n",
    "plt.legend(legend)\n",
    "plt.title('Histogram of 6yo Children Experiencing Nightmares')\n",
    "plt.xlabel('Nightmare Frequency')\n",
    "plt.ylabel('Number of Children (log)')\n",
    "plt.xticks(range(1, 4))\n",
    "plt.xlim([0, 4])\n",
    "plt.yscale('log', nonpositive='clip')\n",
    "plt.xticks([1, 2, 3], ['None', 'Rare', 'Frequent'])\n",
    "plt.show()\n",
    "\n",
    "# Sleepwalking and sleep-speaking\n",
    "# import data for graph\n",
    "d = pd.read_csv('sleepwalking_data.csv')\n",
    "girls = d['girls']\n",
    "boys = d['boys']\n",
    "legend = ['Girls', 'Boys']\n",
    "\n",
    "# plot and format histogram\n",
    "plt.style.use('seaborn-deep')\n",
    "bins = np.linspace(0, 4, 4)\n",
    "plt.hist([girls, boys], bins=np.arange(10)-0.5, color = ['orange', 'purple'])\n",
    "\n",
    "plt.legend(legend)\n",
    "plt.title('Histogram of 6yo Children Experiencing Sleepwalking and Sleep-talking')\n",
    "plt.xlabel('Sleepwalking and Sleep-talking Frequency')\n",
    "plt.ylabel('Number of Children (log)')\n",
    "plt.xticks(range(1, 4))\n",
    "plt.xlim([0, 4])\n",
    "plt.yscale('log', nonpositive='clip')\n",
    "plt.xticks([1, 2, 3], ['None', 'Rare', 'Frequent'])\n",
    "plt.show()\n",
    "\n",
    "# Enuresis nocturna\n",
    "# import data for graph\n",
    "d = pd.read_csv('enuresis_data.csv')\n",
    "girls = d['girls']\n",
    "boys = d['boys']\n",
    "legend = ['Girls', 'Boys']\n",
    "\n",
    "# plot and format histogram\n",
    "plt.style.use('seaborn-deep')\n",
    "bins = np.linspace(0, 4, 4)\n",
    "plt.hist([girls, boys], bins=np.arange(10)-0.5, color = ['orange', 'purple'])\n",
    "\n",
    "plt.legend(legend)\n",
    "plt.title('Histogram of 6yo Children Experiencing Enuresis nocturna')\n",
    "plt.xlabel('Enuresis nocturna Frequency')\n",
    "plt.ylabel('Number of Children (log)')\n",
    "plt.xticks(range(1, 4))\n",
    "plt.xlim([0, 4])\n",
    "plt.yscale('log', nonpositive='clip')\n",
    "plt.xticks([1, 2, 3], ['None', 'Rare', 'Frequent'])\n",
    "plt.show()"
   ]
  },
  {
   "cell_type": "markdown",
   "metadata": {},
   "source": [
    "### Part 4: Analysis of results"
   ]
  },
  {
   "cell_type": "markdown",
   "metadata": {},
   "source": [
    "#### T-test results\n",
    "When performing a T-test on the data of girls and boys experiencing nightmares, I got a p-value of 0.9162. Because it is greater than the chosen threshold of 0.01, I fail to reject the null hypothesis and there is no significant difference in the number of nightmares experiences by girls versus boys. For the T-test on sleepwalking and sleep-talking, the p-value is 0.5803 and therefor also too high. I fail to reject the null hypothesis and there is no significant difference on the basis of gender. The p-value result for the T-test on enuresis nocturna is 0.0025, which is below the threshold of 0.01. Therefor, the null hypothesis is rejected. There is strong evidence for a correlation between enuresis nocturna and gender. One out of the three chosen sleep disturbances has a frequency that is related to gender. \n",
    "\n",
    "#### Histograms \n",
    "The three histograms show the logarithm of frequency at which the sleep disturbance occured. As expected from the T-tests results, the bars of the graphs for nightmare, and sleepwalking and sleep-talking don't show a significant difference between girls and boys. For the graph of children experiencing enuresis nocturna, there is a significant difference between girls and boys that experience this form of sleep disturbance. This is in accordance with what I expected based on the T-test results."
   ]
  },
  {
   "cell_type": "markdown",
   "metadata": {},
   "source": [
    "### Part 5: Code Sources\n",
    "\n",
    "https://docs.python.org/3/\n",
    "\n",
    "https://www.statology.org/f-test-python/\n",
    "\n",
    "https://www.statology.org/two-sample-t-test-python/"
   ]
  }
 ],
 "metadata": {
  "kernelspec": {
   "display_name": "Python 3",
   "language": "python",
   "name": "python3"
  },
  "language_info": {
   "codemirror_mode": {
    "name": "ipython",
    "version": 3
   },
   "file_extension": ".py",
   "mimetype": "text/x-python",
   "name": "python",
   "nbconvert_exporter": "python",
   "pygments_lexer": "ipython3",
   "version": "3.8.5"
  }
 },
 "nbformat": 4,
 "nbformat_minor": 4
}
