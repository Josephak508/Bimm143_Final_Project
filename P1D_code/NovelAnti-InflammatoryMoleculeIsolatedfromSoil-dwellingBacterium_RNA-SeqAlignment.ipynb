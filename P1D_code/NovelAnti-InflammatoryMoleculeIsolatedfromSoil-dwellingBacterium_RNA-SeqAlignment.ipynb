{
 "cells": [
  {
   "cell_type": "code",
   "execution_count": 1,
   "metadata": {},
   "outputs": [
    {
     "ename": "ModuleNotFoundError",
     "evalue": "No module named 'pyrpipe'",
     "output_type": "error",
     "traceback": [
      "\u001b[0;31m---------------------------------------------------------------------------\u001b[0m",
      "\u001b[0;31mModuleNotFoundError\u001b[0m                       Traceback (most recent call last)",
      "\u001b[0;32m<ipython-input-1-17000204d785>\u001b[0m in \u001b[0;36m<module>\u001b[0;34m\u001b[0m\n\u001b[0;32m----> 1\u001b[0;31m \u001b[0;32mfrom\u001b[0m \u001b[0mpyrpipe\u001b[0m \u001b[0;32mimport\u001b[0m \u001b[0msra\u001b[0m\u001b[0;34m\u001b[0m\u001b[0;34m\u001b[0m\u001b[0m\n\u001b[0m\u001b[1;32m      2\u001b[0m \u001b[0;32mfrom\u001b[0m \u001b[0mpyrpipe\u001b[0m \u001b[0;32mimport\u001b[0m \u001b[0mmapping\u001b[0m\u001b[0;34m\u001b[0m\u001b[0;34m\u001b[0m\u001b[0m\n\u001b[1;32m      3\u001b[0m \u001b[0;32mfrom\u001b[0m \u001b[0mpyrpipe\u001b[0m \u001b[0;32mimport\u001b[0m \u001b[0massembly\u001b[0m\u001b[0;34m\u001b[0m\u001b[0;34m\u001b[0m\u001b[0m\n\u001b[1;32m      4\u001b[0m \u001b[0;32mfrom\u001b[0m \u001b[0mpyrpipe\u001b[0m \u001b[0;32mimport\u001b[0m \u001b[0mqc\u001b[0m\u001b[0;34m\u001b[0m\u001b[0;34m\u001b[0m\u001b[0m\n\u001b[1;32m      5\u001b[0m \u001b[0;32mfrom\u001b[0m \u001b[0mpyrpipe\u001b[0m \u001b[0;32mimport\u001b[0m \u001b[0mtools\u001b[0m\u001b[0;34m\u001b[0m\u001b[0;34m\u001b[0m\u001b[0m\n",
      "\u001b[0;31mModuleNotFoundError\u001b[0m: No module named 'pyrpipe'"
     ]
    }
   ],
   "source": [
    "from pyrpipe import sra\n",
    "from pyrpipe import mapping\n",
    "from pyrpipe import assembly\n",
    "from pyrpipe import qc\n",
    "from pyrpipe import tools\n",
    "runs = ['SRR3098746', 'SRR3098745', 'SRR3098744']\n",
    "workingDir = 'maize_out'\n",
    "sraObs = []\n",
    "for x in runs:\n",
    "    ob = sra.SRA(x, workingDir)\n",
    "    if ob.download_fastq():\n",
    "        sraObs.append(ob)\n",
    "tqOptions = {'--cores': '10'}\n",
    "tg = qc.Trimgalore()\n",
    "for ob in sraObs: \n",
    "    ob.perform_qc(tg, **tgOpts)\n",
    "starParams = {'--outFilterType': 'BySJout', '--outSAMtype': 'BAM SortedByCoordinate'}\n",
    "star = mapping.Star(index = 'index')\n",
    "st = assembly.Stringtie()\n",
    "for ob in sraObs:\n",
    "    bam = star.perform_alignment(ob, **starParams)\n",
    "    st.perform_assembly(bam, reference_gtf = 'ref.gtf')"
   ]
  },
  {
   "cell_type": "code",
   "execution_count": null,
   "metadata": {},
   "outputs": [],
   "source": []
  }
 ],
 "metadata": {
  "kernelspec": {
   "display_name": "Python 3",
   "language": "python",
   "name": "python3"
  },
  "language_info": {
   "codemirror_mode": {
    "name": "ipython",
    "version": 3
   },
   "file_extension": ".py",
   "mimetype": "text/x-python",
   "name": "python",
   "nbconvert_exporter": "python",
   "pygments_lexer": "ipython3",
   "version": "3.8.5"
  }
 },
 "nbformat": 4,
 "nbformat_minor": 4
}
