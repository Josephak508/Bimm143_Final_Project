{
 "cells": [
  {
   "cell_type": "code",
   "execution_count": null,
   "metadata": {},
   "outputs": [],
   "source": [
    "#Acomparitivegenomicsmultitoolforscientificdiscoveryandconservation_cactus\n",
    "python3 -m pip install virtualenv\n",
    "python3 -m virtualenz -p python3.6 cactus_env\n",
    "source cactus_env/bin/activate\n",
    "cactus <jobStorePath> <seqFile> <outputHal>\n",
    "cactus jobStore examples/evolverMammals.txt examples/evolverMammals.hal\n",
    "--root mr\n",
    "hal2maf <hal> --refGenome <reference> <maf>"
   ]
  },
  {
   "cell_type": "code",
   "execution_count": null,
   "metadata": {},
   "outputs": [],
   "source": []
  }
 ],
 "metadata": {
  "kernelspec": {
   "display_name": "Python 3",
   "language": "python",
   "name": "python3"
  },
  "language_info": {
   "codemirror_mode": {
    "name": "ipython",
    "version": 3
   },
   "file_extension": ".py",
   "mimetype": "text/x-python",
   "name": "python",
   "nbconvert_exporter": "python",
   "pygments_lexer": "ipython3",
   "version": "3.8.5"
  }
 },
 "nbformat": 4,
 "nbformat_minor": 4
}
